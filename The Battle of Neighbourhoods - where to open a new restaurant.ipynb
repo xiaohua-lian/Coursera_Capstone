{
 "cells": [
  {
   "cell_type": "markdown",
   "metadata": {},
   "source": [
    "# Where to open a new restaurant in Toronto?\n"
   ]
  },
  {
   "cell_type": "markdown",
   "metadata": {},
   "source": [
    "## Back ground \n",
    "Toronto is a big city judging from the city size. By looking through the food and industry busines in the city, the density does not reach its limit. Therefore, there are rooms for a new restaurant. Then we have to answer the most important question, where?\n"
   ]
  },
  {
   "cell_type": "markdown",
   "metadata": {},
   "source": [
    "## Business Problem\n",
    "Opening a restaurant is a very challenging task. As a start, it is very important to decide the location wisely. The current situation is that an entrepreneur usually carelessly relies on common sense and domain knowledge to choose a restaurant type and a good spot. Needless to say that too often an inconsiderate decision leads to a poor income and inevitable bankruptcy.\n",
    "Where to open it?  \n",
    "  \n",
    "I do not know the business rules in Toronto. In the Netherlands, it is not allowed that you open a restaurant where there are no restaurants nearby. In other words, the government tries to group all restaurants together in a city center or a shopping area. You can not buy a house near a school and start a fast food restaurant there.  \n",
    "  \n",
    "As a starter, an easy way is to open a restaurant where it is surrounded by other restaurants. Because you do not need to worry about customers. You can simply share them with other business. Then the restaurant can build up its reputation and grow in to a mature business. Once it is getting famous, we may move it because customers will follow.  \n",
    "  \n",
    "To sum up as a starter, opening a new restaurant should be where most of restaurants are.  \n",
    "  \n",
    "Let us do the restaurants data analysis in Toronto and find the concentrated restaurants area for a new restaurant’s starter. \n"
   ]
  },
  {
   "cell_type": "markdown",
   "metadata": {},
   "source": [
    "## Target audience  \n",
    "Investors, entrepreneurs, and chefs interested in opening a restaurant in Toronto, who may need a piece of objective advice on where exactly it should be opened."
   ]
  },
  {
   "cell_type": "markdown",
   "metadata": {},
   "source": [
    "## Data and methods\n",
    "1. Using a table on https://en.wikipedia.org/wiki/List_of_postal_codes_of_Canada:_M collect information about Toronto boroughs and locations and Postal Code.  \n",
    "2. Use the Geopy and Folium library to get the coordinates of every locations and map geospatial data on a Toronto map.\n",
    "3. Use Foursquare API, collect the all restaurants in Toronto and their location via an exploring query.\n",
    "4. Group collected restaurants by their locations using K-mean algorithm and find out the cluster which has the most nodes. This cluster represents the busy restaurants area.\n",
    "6. Calculate the distance (Euclidean distance) from each borough to the biggest cluster center and select a few boroughs which have smaller distances than others. These boroughs will be my recommendations.\n",
    "7. Visualize on the map and see if my recommendations are convincing.\n"
   ]
  },
  {
   "cell_type": "code",
   "execution_count": null,
   "metadata": {},
   "outputs": [],
   "source": []
  }
 ],
 "metadata": {
  "kernelspec": {
   "display_name": "Python 3",
   "language": "python",
   "name": "python3"
  },
  "language_info": {
   "codemirror_mode": {
    "name": "ipython",
    "version": 3
   },
   "file_extension": ".py",
   "mimetype": "text/x-python",
   "name": "python",
   "nbconvert_exporter": "python",
   "pygments_lexer": "ipython3",
   "version": "3.7.6"
  }
 },
 "nbformat": 4,
 "nbformat_minor": 4
}
